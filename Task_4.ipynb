{
  "nbformat": 4,
  "nbformat_minor": 0,
  "metadata": {
    "colab": {
      "name": "Task_4.ipynb",
      "provenance": [],
      "collapsed_sections": []
    },
    "kernelspec": {
      "name": "python3",
      "display_name": "Python 3"
    },
    "language_info": {
      "name": "python"
    }
  },
  "cells": [
    {
      "cell_type": "markdown",
      "metadata": {
        "id": "U5ik0vPKDhU7"
      },
      "source": [
        "# OLA WAHBA \n",
        "# Task 4 - Goeduhub Technologies\n",
        "# ID : GO_STP_6027"
      ]
    },
    {
      "cell_type": "markdown",
      "metadata": {
        "id": "7dSwUNvAEACg"
      },
      "source": [
        "**1-Import the numpy package under the name np and Print the numpy version and the configuration **"
      ]
    },
    {
      "cell_type": "code",
      "metadata": {
        "colab": {
          "base_uri": "https://localhost:8080/"
        },
        "id": "kSDzY1t1DceZ",
        "outputId": "e3382cda-620a-4e30-e93d-47c0d64bd4f6"
      },
      "source": [
        "import numpy as np\n",
        "print(np.__version__)\n",
        "np.show_config()"
      ],
      "execution_count": 2,
      "outputs": [
        {
          "output_type": "stream",
          "text": [
            "1.19.5\n",
            "blas_mkl_info:\n",
            "  NOT AVAILABLE\n",
            "blis_info:\n",
            "  NOT AVAILABLE\n",
            "openblas_info:\n",
            "    libraries = ['openblas', 'openblas']\n",
            "    library_dirs = ['/usr/local/lib']\n",
            "    language = c\n",
            "    define_macros = [('HAVE_CBLAS', None)]\n",
            "blas_opt_info:\n",
            "    libraries = ['openblas', 'openblas']\n",
            "    library_dirs = ['/usr/local/lib']\n",
            "    language = c\n",
            "    define_macros = [('HAVE_CBLAS', None)]\n",
            "lapack_mkl_info:\n",
            "  NOT AVAILABLE\n",
            "openblas_lapack_info:\n",
            "    libraries = ['openblas', 'openblas']\n",
            "    library_dirs = ['/usr/local/lib']\n",
            "    language = c\n",
            "    define_macros = [('HAVE_CBLAS', None)]\n",
            "lapack_opt_info:\n",
            "    libraries = ['openblas', 'openblas']\n",
            "    library_dirs = ['/usr/local/lib']\n",
            "    language = c\n",
            "    define_macros = [('HAVE_CBLAS', None)]\n"
          ],
          "name": "stdout"
        }
      ]
    },
    {
      "cell_type": "markdown",
      "metadata": {
        "id": "xoyxvp0KE-hC"
      },
      "source": [
        "***2. Create a null vector of size 10***"
      ]
    },
    {
      "cell_type": "code",
      "metadata": {
        "colab": {
          "base_uri": "https://localhost:8080/"
        },
        "id": "NekyToh5E-9z",
        "outputId": "95c2431b-f396-454f-be62-5e92d3efe5ce"
      },
      "source": [
        "np.zeros(10)"
      ],
      "execution_count": 3,
      "outputs": [
        {
          "output_type": "execute_result",
          "data": {
            "text/plain": [
              "array([0., 0., 0., 0., 0., 0., 0., 0., 0., 0.])"
            ]
          },
          "metadata": {
            "tags": []
          },
          "execution_count": 3
        }
      ]
    },
    {
      "cell_type": "markdown",
      "metadata": {
        "id": "-N6tmq81FavU"
      },
      "source": [
        "***3-Create Simple 1-D array and check type and check data types in array***"
      ]
    },
    {
      "cell_type": "code",
      "metadata": {
        "colab": {
          "base_uri": "https://localhost:8080/"
        },
        "id": "V6xmWO2XFaYb",
        "outputId": "fa61f537-52b5-449a-c3e6-d41d414e9fb6"
      },
      "source": [
        "arr=np.arange(0,10)\n",
        "\n",
        "print(type(arr))\n",
        "arr"
      ],
      "execution_count": 7,
      "outputs": [
        {
          "output_type": "stream",
          "text": [
            "<class 'numpy.ndarray'>\n"
          ],
          "name": "stdout"
        },
        {
          "output_type": "execute_result",
          "data": {
            "text/plain": [
              "array([0, 1, 2, 3, 4, 5, 6, 7, 8, 9])"
            ]
          },
          "metadata": {
            "tags": []
          },
          "execution_count": 7
        }
      ]
    },
    {
      "cell_type": "markdown",
      "metadata": {
        "id": "gIc2eN9r_d53"
      },
      "source": [
        "***4-How to find number of dimensions, bytes per element and bytes of memory used?***"
      ]
    },
    {
      "cell_type": "code",
      "metadata": {
        "colab": {
          "base_uri": "https://localhost:8080/"
        },
        "id": "flC5Z_kJ-puT",
        "outputId": "cd2524d9-a31b-4bdd-bca6-d56e98e5c3e1"
      },
      "source": [
        "arr1=np.arange(0,10)\n",
        "arr1.ndim\n"
      ],
      "execution_count": 15,
      "outputs": [
        {
          "output_type": "execute_result",
          "data": {
            "text/plain": [
              "1"
            ]
          },
          "metadata": {
            "tags": []
          },
          "execution_count": 15
        }
      ]
    },
    {
      "cell_type": "code",
      "metadata": {
        "colab": {
          "base_uri": "https://localhost:8080/"
        },
        "id": "oVVWn37a-u9W",
        "outputId": "1a34b8d6-5557-435c-da2c-e7d39ea260bf"
      },
      "source": [
        "arr1.itemsize\n"
      ],
      "execution_count": 16,
      "outputs": [
        {
          "output_type": "execute_result",
          "data": {
            "text/plain": [
              "8"
            ]
          },
          "metadata": {
            "tags": []
          },
          "execution_count": 16
        }
      ]
    },
    {
      "cell_type": "code",
      "metadata": {
        "colab": {
          "base_uri": "https://localhost:8080/"
        },
        "id": "BvFpjx3EAf_B",
        "outputId": "fdbf3dd8-a01f-42b6-b947-7f8377ea0d9a"
      },
      "source": [
        "arr1.nbytes"
      ],
      "execution_count": 17,
      "outputs": [
        {
          "output_type": "execute_result",
          "data": {
            "text/plain": [
              "80"
            ]
          },
          "metadata": {
            "tags": []
          },
          "execution_count": 17
        }
      ]
    },
    {
      "cell_type": "markdown",
      "metadata": {
        "id": "UPejrzPSAtQk"
      },
      "source": [
        "***5-Create a null vector of size 10 but the fifth value which is 1***"
      ]
    },
    {
      "cell_type": "code",
      "metadata": {
        "colab": {
          "base_uri": "https://localhost:8080/"
        },
        "id": "UbwLPY2GA2LJ",
        "outputId": "950d0b9e-2bf4-4a89-a26e-184af8b4e35e"
      },
      "source": [
        "arr2=np.zeros(10)\n",
        "arr2[4]=1\n",
        "arr2"
      ],
      "execution_count": 21,
      "outputs": [
        {
          "output_type": "execute_result",
          "data": {
            "text/plain": [
              "array([0., 0., 0., 0., 1., 0., 0., 0., 0., 0.])"
            ]
          },
          "metadata": {
            "tags": []
          },
          "execution_count": 21
        }
      ]
    },
    {
      "cell_type": "markdown",
      "metadata": {
        "id": "d9tWfT5KBYeH"
      },
      "source": [
        "***Create a vector with values ranging from 10 to 49***\n"
      ]
    },
    {
      "cell_type": "code",
      "metadata": {
        "colab": {
          "base_uri": "https://localhost:8080/"
        },
        "id": "wWilVQnSA-Sk",
        "outputId": "0c6e105f-bd81-492b-bed7-9beff5556564"
      },
      "source": [
        "arr3=np.arange(10,50)\n",
        "arr3"
      ],
      "execution_count": 23,
      "outputs": [
        {
          "output_type": "execute_result",
          "data": {
            "text/plain": [
              "array([10, 11, 12, 13, 14, 15, 16, 17, 18, 19, 20, 21, 22, 23, 24, 25, 26,\n",
              "       27, 28, 29, 30, 31, 32, 33, 34, 35, 36, 37, 38, 39, 40, 41, 42, 43,\n",
              "       44, 45, 46, 47, 48, 49])"
            ]
          },
          "metadata": {
            "tags": []
          },
          "execution_count": 23
        }
      ]
    },
    {
      "cell_type": "markdown",
      "metadata": {
        "id": "1Nw5LqvGB-Bs"
      },
      "source": [
        "***7-Reverse a vector (first element becomes last)***\n"
      ]
    },
    {
      "cell_type": "code",
      "metadata": {
        "colab": {
          "base_uri": "https://localhost:8080/"
        },
        "id": "iJ1APe1UBwHG",
        "outputId": "c511eeb6-3e39-4b82-b1c1-bc990dc8dd1b"
      },
      "source": [
        "arrev=arr3[::-1]\n",
        "arrev"
      ],
      "execution_count": 29,
      "outputs": [
        {
          "output_type": "execute_result",
          "data": {
            "text/plain": [
              "array([49, 48, 47, 46, 45, 44, 43, 42, 41, 40, 39, 38, 37, 36, 35, 34, 33,\n",
              "       32, 31, 30, 29, 28, 27, 26, 25, 24, 23, 22, 21, 20, 19, 18, 17, 16,\n",
              "       15, 14, 13, 12, 11, 10])"
            ]
          },
          "metadata": {
            "tags": []
          },
          "execution_count": 29
        }
      ]
    },
    {
      "cell_type": "code",
      "metadata": {
        "colab": {
          "base_uri": "https://localhost:8080/"
        },
        "id": "py25hWO5CUMz",
        "outputId": "e32f6b5c-f105-41c9-c5c7-7238199ebb20"
      },
      "source": [
        "rev=np.flip(arr)\n",
        "rev"
      ],
      "execution_count": 37,
      "outputs": [
        {
          "output_type": "execute_result",
          "data": {
            "text/plain": [
              "array([9, 8, 7, 6, 5, 4, 3, 2, 1, 0])"
            ]
          },
          "metadata": {
            "tags": []
          },
          "execution_count": 37
        }
      ]
    },
    {
      "cell_type": "markdown",
      "metadata": {
        "id": "HMr6c6ARHQJf"
      },
      "source": [
        "***8-Create a 3x3 matrix with values ranging from 0 to 8***\n"
      ]
    },
    {
      "cell_type": "code",
      "metadata": {
        "colab": {
          "base_uri": "https://localhost:8080/"
        },
        "id": "fSz2bIepHYf7",
        "outputId": "495f1e25-e848-4b44-829f-05b585703e0a"
      },
      "source": [
        "arr4=np.arange(0,9)\n",
        "p=arr4.reshape(3,3)\n",
        "p"
      ],
      "execution_count": 42,
      "outputs": [
        {
          "output_type": "execute_result",
          "data": {
            "text/plain": [
              "array([[0, 1, 2],\n",
              "       [3, 4, 5],\n",
              "       [6, 7, 8]])"
            ]
          },
          "metadata": {
            "tags": []
          },
          "execution_count": 42
        }
      ]
    },
    {
      "cell_type": "markdown",
      "metadata": {
        "id": "5rYbWjurG9X1"
      },
      "source": [
        "***9-Find indices of non-zero elements from [1,2,0,0,4,0]***"
      ]
    },
    {
      "cell_type": "code",
      "metadata": {
        "colab": {
          "base_uri": "https://localhost:8080/"
        },
        "id": "jsWQVMu5HEyP",
        "outputId": "e74d2177-3dd1-4bef-9984-40dba0d3c82d"
      },
      "source": [
        "A=np.array([1,2,0,0,4,0])\n",
        "\n",
        "z=np.nonzero(A)\n",
        "z"
      ],
      "execution_count": 48,
      "outputs": [
        {
          "output_type": "execute_result",
          "data": {
            "text/plain": [
              "(array([0, 1, 4]),)"
            ]
          },
          "metadata": {
            "tags": []
          },
          "execution_count": 48
        }
      ]
    },
    {
      "cell_type": "markdown",
      "metadata": {
        "id": "NsEIEaomEl8j"
      },
      "source": [
        "***10-Create a 3x3 identity matrix***\n"
      ]
    },
    {
      "cell_type": "code",
      "metadata": {
        "colab": {
          "base_uri": "https://localhost:8080/"
        },
        "id": "YyWNHuKcPcak",
        "outputId": "a5906862-e78a-4605-ec37-4984d3c7f368"
      },
      "source": [
        "c=np.identity(3)\n",
        "c"
      ],
      "execution_count": 53,
      "outputs": [
        {
          "output_type": "execute_result",
          "data": {
            "text/plain": [
              "array([[1., 0., 0.],\n",
              "       [0., 1., 0.],\n",
              "       [0., 0., 1.]])"
            ]
          },
          "metadata": {
            "tags": []
          },
          "execution_count": 53
        }
      ]
    },
    {
      "cell_type": "code",
      "metadata": {
        "colab": {
          "base_uri": "https://localhost:8080/"
        },
        "id": "EzpAxqPOP1m0",
        "outputId": "b506f04a-d966-4395-d42a-62f93ffb6416"
      },
      "source": [
        "d=np.eye(3,3)\n",
        "d"
      ],
      "execution_count": 55,
      "outputs": [
        {
          "output_type": "execute_result",
          "data": {
            "text/plain": [
              "array([[1., 0., 0.],\n",
              "       [0., 1., 0.],\n",
              "       [0., 0., 1.]])"
            ]
          },
          "metadata": {
            "tags": []
          },
          "execution_count": 55
        }
      ]
    },
    {
      "cell_type": "markdown",
      "metadata": {
        "id": "BbDDYgwzQQQE"
      },
      "source": [
        "***11-Create a 3x3x3 array with random values***\n"
      ]
    },
    {
      "cell_type": "code",
      "metadata": {
        "colab": {
          "base_uri": "https://localhost:8080/"
        },
        "id": "zFq4FTL8QLFA",
        "outputId": "6992122a-ed2b-4c7d-96d7-4db07b14d152"
      },
      "source": [
        "r=np.random.random((3,3))\n",
        "r"
      ],
      "execution_count": 71,
      "outputs": [
        {
          "output_type": "execute_result",
          "data": {
            "text/plain": [
              "array([[0.32216556, 0.02206353, 0.3635429 ],\n",
              "       [0.70131431, 0.23492724, 0.51907426],\n",
              "       [0.62045327, 0.98626011, 0.96770798]])"
            ]
          },
          "metadata": {
            "tags": []
          },
          "execution_count": 71
        }
      ]
    },
    {
      "cell_type": "markdown",
      "metadata": {
        "id": "Pl8jhRGERViA"
      },
      "source": [
        "***12-Create a 10x10 array with random values and find the minimum and maximum values***\n"
      ]
    },
    {
      "cell_type": "code",
      "metadata": {
        "colab": {
          "base_uri": "https://localhost:8080/"
        },
        "id": "5N8OHr_7Qzvh",
        "outputId": "ab86d81d-9087-4a94-b4f9-958257ce1734"
      },
      "source": [
        "s=np.random.random((10,10))\n",
        "s"
      ],
      "execution_count": 67,
      "outputs": [
        {
          "output_type": "execute_result",
          "data": {
            "text/plain": [
              "array([[0.5775895 , 0.38662853, 0.56638653, 0.27392847, 0.00621629,\n",
              "        0.00423118, 0.19343311, 0.25531923, 0.67893626, 0.54268737],\n",
              "       [0.35740335, 0.58667667, 0.93904072, 0.85297036, 0.98816512,\n",
              "        0.41901216, 0.06343317, 0.56471165, 0.15152954, 0.91720139],\n",
              "       [0.88659411, 0.52766993, 0.70107792, 0.17050889, 0.51943228,\n",
              "        0.94892112, 0.26294779, 0.12116428, 0.78419629, 0.67722561],\n",
              "       [0.31257068, 0.68450647, 0.22122368, 0.56725892, 0.65977957,\n",
              "        0.9262419 , 0.92590586, 0.11715573, 0.19241918, 0.62378797],\n",
              "       [0.98593395, 0.08622317, 0.11079922, 0.39443806, 0.10442266,\n",
              "        0.42835142, 0.32072396, 0.89136802, 0.73804783, 0.2580948 ],\n",
              "       [0.46005584, 0.75392478, 0.4570348 , 0.36150055, 0.67713767,\n",
              "        0.34385542, 0.37463916, 0.89405234, 0.67571626, 0.21587999],\n",
              "       [0.64734018, 0.723688  , 0.83789046, 0.75698693, 0.46650247,\n",
              "        0.85082588, 0.70008246, 0.79742706, 0.67202086, 0.68298976],\n",
              "       [0.82172787, 0.46801142, 0.79900214, 0.88716233, 0.23280348,\n",
              "        0.12301187, 0.15247757, 0.46712034, 0.66519929, 0.95982498],\n",
              "       [0.02497405, 0.07961378, 0.85235124, 0.12504795, 0.65966442,\n",
              "        0.6779875 , 0.44131756, 0.82370082, 0.62656484, 0.68957591],\n",
              "       [0.84179553, 0.42638489, 0.24598585, 0.50059499, 0.2414892 ,\n",
              "        0.78704967, 0.20373726, 0.42373543, 0.48952227, 0.0458367 ]])"
            ]
          },
          "metadata": {
            "tags": []
          },
          "execution_count": 67
        }
      ]
    },
    {
      "cell_type": "code",
      "metadata": {
        "colab": {
          "base_uri": "https://localhost:8080/"
        },
        "id": "VyrXX1X_Rw6Z",
        "outputId": "a3377548-8251-4ae4-820a-ede8b51a6778"
      },
      "source": [
        "s.min()"
      ],
      "execution_count": 68,
      "outputs": [
        {
          "output_type": "execute_result",
          "data": {
            "text/plain": [
              "0.004231180821069325"
            ]
          },
          "metadata": {
            "tags": []
          },
          "execution_count": 68
        }
      ]
    },
    {
      "cell_type": "code",
      "metadata": {
        "colab": {
          "base_uri": "https://localhost:8080/"
        },
        "id": "kH9B_IyGR2pb",
        "outputId": "64d20ad6-3c50-4c9d-db39-73f056f2752f"
      },
      "source": [
        "s.max()"
      ],
      "execution_count": 69,
      "outputs": [
        {
          "output_type": "execute_result",
          "data": {
            "text/plain": [
              "0.9881651223320574"
            ]
          },
          "metadata": {
            "tags": []
          },
          "execution_count": 69
        }
      ]
    },
    {
      "cell_type": "markdown",
      "metadata": {
        "id": "iORNrcmcTOr0"
      },
      "source": [
        "***13-Create a random vector of size 30 and find the mean value***\n"
      ]
    },
    {
      "cell_type": "code",
      "metadata": {
        "colab": {
          "base_uri": "https://localhost:8080/"
        },
        "id": "D8ImpCayR4sg",
        "outputId": "6b51a60d-65c4-4f6c-a6bd-c1c3f0abe7b6"
      },
      "source": [
        "v=np.random.random((3,10))\n",
        "v"
      ],
      "execution_count": 75,
      "outputs": [
        {
          "output_type": "execute_result",
          "data": {
            "text/plain": [
              "array([[0.67711931, 0.17607516, 0.40230014, 0.00505157, 0.87839282,\n",
              "        0.20821011, 0.87962123, 0.10558769, 0.48330611, 0.76002249],\n",
              "       [0.60440938, 0.59078777, 0.98492525, 0.13998581, 0.05246641,\n",
              "        0.02056254, 0.57283598, 0.78903881, 0.61298329, 0.10804662],\n",
              "       [0.11665115, 0.16988411, 0.71814942, 0.23354057, 0.92831806,\n",
              "        0.80392811, 0.43803517, 0.9457256 , 0.29726209, 0.16704687]])"
            ]
          },
          "metadata": {
            "tags": []
          },
          "execution_count": 75
        }
      ]
    },
    {
      "cell_type": "code",
      "metadata": {
        "colab": {
          "base_uri": "https://localhost:8080/"
        },
        "id": "XLBR8dwmUMBo",
        "outputId": "03ef8ebb-a8a6-4496-a15a-a71880705474"
      },
      "source": [
        "np.mean(v)"
      ],
      "execution_count": 76,
      "outputs": [
        {
          "output_type": "execute_result",
          "data": {
            "text/plain": [
              "0.46234232133431913"
            ]
          },
          "metadata": {
            "tags": []
          },
          "execution_count": 76
        }
      ]
    },
    {
      "cell_type": "markdown",
      "metadata": {
        "id": "7zqlm_ZGUkRQ"
      },
      "source": [
        "***14-Create a 2d array with 1 on the border and 0 inside***\n"
      ]
    },
    {
      "cell_type": "code",
      "metadata": {
        "colab": {
          "base_uri": "https://localhost:8080/"
        },
        "id": "S6QKFciyUidR",
        "outputId": "eb71b7c7-3440-4358-b034-a7925557a181"
      },
      "source": [
        "h=np.ones((5,5))\n",
        "h[1:4,1:4]=0\n",
        "h"
      ],
      "execution_count": 81,
      "outputs": [
        {
          "output_type": "execute_result",
          "data": {
            "text/plain": [
              "array([[1., 1., 1., 1., 1.],\n",
              "       [1., 0., 0., 0., 1.],\n",
              "       [1., 0., 0., 0., 1.],\n",
              "       [1., 0., 0., 0., 1.],\n",
              "       [1., 1., 1., 1., 1.]])"
            ]
          },
          "metadata": {
            "tags": []
          },
          "execution_count": 81
        }
      ]
    },
    {
      "cell_type": "markdown",
      "metadata": {
        "id": "5Qy8vn5PYgYc"
      },
      "source": [
        "***16-How to Accessing/Changing specific elements, rows, columns, etc in Numpy array?***\n",
        "Get 13, get first row only, get 3rd column only, get [2, 4, 6], replace 13 by 20\n",
        "\n",
        "\n"
      ]
    },
    {
      "cell_type": "code",
      "metadata": {
        "colab": {
          "base_uri": "https://localhost:8080/"
        },
        "id": "MmgRt3NXX4PS",
        "outputId": "a4f85661-850b-4206-f33e-7b670bce0da6"
      },
      "source": [
        "w=np.array([[1,2,3,4,5,6,7],[8,9,10,11,12,13,14]])\n",
        "w\n"
      ],
      "execution_count": 97,
      "outputs": [
        {
          "output_type": "execute_result",
          "data": {
            "text/plain": [
              "array([[ 1,  2,  3,  4,  5,  6,  7],\n",
              "       [ 8,  9, 10, 11, 12, 13, 14]])"
            ]
          },
          "metadata": {
            "tags": []
          },
          "execution_count": 97
        }
      ]
    },
    {
      "cell_type": "code",
      "metadata": {
        "colab": {
          "base_uri": "https://localhost:8080/"
        },
        "id": "5vp1Ll6BZt_u",
        "outputId": "bdf15f8d-3724-4a1a-808c-3cb1c8cf6b04"
      },
      "source": [
        "w[1,5]\n"
      ],
      "execution_count": 99,
      "outputs": [
        {
          "output_type": "execute_result",
          "data": {
            "text/plain": [
              "13"
            ]
          },
          "metadata": {
            "tags": []
          },
          "execution_count": 99
        }
      ]
    },
    {
      "cell_type": "code",
      "metadata": {
        "colab": {
          "base_uri": "https://localhost:8080/"
        },
        "id": "khvz5oFCc2VR",
        "outputId": "0e5a9e76-2d54-4a46-b2b7-0d014901b9f5"
      },
      "source": [
        "w[:1,]"
      ],
      "execution_count": 100,
      "outputs": [
        {
          "output_type": "execute_result",
          "data": {
            "text/plain": [
              "array([[1, 2, 3, 4, 5, 6, 7]])"
            ]
          },
          "metadata": {
            "tags": []
          },
          "execution_count": 100
        }
      ]
    },
    {
      "cell_type": "code",
      "metadata": {
        "colab": {
          "base_uri": "https://localhost:8080/"
        },
        "id": "fzYr7JK4dLMW",
        "outputId": "b6257e3a-a346-4c70-c1fe-686b482fdb3f"
      },
      "source": [
        "w[:,2]"
      ],
      "execution_count": 103,
      "outputs": [
        {
          "output_type": "execute_result",
          "data": {
            "text/plain": [
              "array([ 3, 10])"
            ]
          },
          "metadata": {
            "tags": []
          },
          "execution_count": 103
        }
      ]
    },
    {
      "cell_type": "code",
      "metadata": {
        "colab": {
          "base_uri": "https://localhost:8080/"
        },
        "id": "CYeLgzmJdc_v",
        "outputId": "6a898594-01b4-461f-b0a1-b4b0aa67d4d5"
      },
      "source": [
        "w[0,1::2]"
      ],
      "execution_count": 105,
      "outputs": [
        {
          "output_type": "execute_result",
          "data": {
            "text/plain": [
              "array([2, 4, 6])"
            ]
          },
          "metadata": {
            "tags": []
          },
          "execution_count": 105
        }
      ]
    },
    {
      "cell_type": "code",
      "metadata": {
        "colab": {
          "base_uri": "https://localhost:8080/"
        },
        "id": "hgPxcXtmeWzF",
        "outputId": "2cced504-5eef-4d57-86dc-078a15aad2a4"
      },
      "source": [
        "w[1,5]=20\n",
        "w"
      ],
      "execution_count": 106,
      "outputs": [
        {
          "output_type": "execute_result",
          "data": {
            "text/plain": [
              "array([[ 1,  2,  3,  4,  5,  6,  7],\n",
              "       [ 8,  9, 10, 11, 12, 20, 14]])"
            ]
          },
          "metadata": {
            "tags": []
          },
          "execution_count": 106
        }
      ]
    },
    {
      "cell_type": "markdown",
      "metadata": {
        "id": "3eLNwLB5ej9B"
      },
      "source": [
        "***17-How to Convert a 1D array to a 2D array with 2 rows***\n",
        "\n"
      ]
    },
    {
      "cell_type": "code",
      "metadata": {
        "colab": {
          "base_uri": "https://localhost:8080/"
        },
        "id": "twLblYwced-j",
        "outputId": "6a28145c-44c7-4580-970d-1b117be09e37"
      },
      "source": [
        "n=np.arange(10)\n",
        "n.reshape(2,5)"
      ],
      "execution_count": 109,
      "outputs": [
        {
          "output_type": "execute_result",
          "data": {
            "text/plain": [
              "array([[0, 1, 2, 3, 4],\n",
              "       [5, 6, 7, 8, 9]])"
            ]
          },
          "metadata": {
            "tags": []
          },
          "execution_count": 109
        }
      ]
    },
    {
      "cell_type": "markdown",
      "metadata": {
        "id": "Nd7nqGRcfeO1"
      },
      "source": [
        "***18-Create the following pattern without hardcoding. Use only numpy functions and the below input array a.***\n",
        "a = np.array([1,2,3])`\n",
        "\n",
        "\n"
      ]
    },
    {
      "cell_type": "code",
      "metadata": {
        "colab": {
          "base_uri": "https://localhost:8080/"
        },
        "id": "1H0RAcGpfkOS",
        "outputId": "46b1b896-603f-4f75-a382-15ff534e0fd2"
      },
      "source": [
        "a = np.array([1,2,3])\n",
        "np.append(np.repeat(a,3),np.tile(a,3))\n"
      ],
      "execution_count": 114,
      "outputs": [
        {
          "output_type": "execute_result",
          "data": {
            "text/plain": [
              "array([1, 1, 1, 2, 2, 2, 3, 3, 3, 1, 2, 3, 1, 2, 3, 1, 2, 3])"
            ]
          },
          "metadata": {
            "tags": []
          },
          "execution_count": 114
        }
      ]
    },
    {
      "cell_type": "code",
      "metadata": {
        "colab": {
          "base_uri": "https://localhost:8080/"
        },
        "id": "JC-fvpARgsVo",
        "outputId": "9b523b69-49a5-4bc4-b2e7-3e3646b73296"
      },
      "source": [
        ""
      ],
      "execution_count": 113,
      "outputs": [
        {
          "output_type": "execute_result",
          "data": {
            "text/plain": [
              "array([1, 1, 1, 2, 2, 2, 3, 3, 3])"
            ]
          },
          "metadata": {
            "tags": []
          },
          "execution_count": 113
        }
      ]
    }
  ]
}