{
  "nbformat": 4,
  "nbformat_minor": 0,
  "metadata": {
    "colab": {
      "name": "Assignment_Task 1.ipynb",
      "provenance": [],
      "collapsed_sections": []
    },
    "kernelspec": {
      "name": "python3",
      "display_name": "Python 3"
    },
    "language_info": {
      "name": "python"
    }
  },
  "cells": [
    {
      "cell_type": "markdown",
      "metadata": {
        "id": "Iey9JjTzzvGn"
      },
      "source": [
        " **Day2** \n",
        "# Goeduhub Technologies\n",
        "# **Assignment**/Task 1\n",
        "\n",
        "\n",
        "\n"
      ]
    },
    {
      "cell_type": "markdown",
      "metadata": {
        "id": "ybctoUDnzJE8"
      },
      "source": [
        " **GO_STP_6027**\n",
        " \n",
        " **OLA** **WAHBA**"
      ]
    },
    {
      "cell_type": "markdown",
      "metadata": {
        "id": "P4LimqPFzkDd"
      },
      "source": [
        "# Question 1-i :\n",
        " We are having 3 list like this\n",
        "\n",
        "Colors = [“Yellow”,”Green”,”White”,”Black”]\n",
        "\n",
        "Fruits=[“Apple”,”Papaya”,”Mango”,”Orange”]\n",
        "\n",
        "Animals=[“Tiger”,”Lion”,”Deer”,”Zebra”]\n",
        "\n",
        "  i. Write a program that asks user to enter a Color/Fruit/Animal name and it should tell which category belongs to , like its is a fruit or color or Animal"
      ]
    },
    {
      "cell_type": "code",
      "metadata": {
        "id": "Ar1UsWw9t-66",
        "colab": {
          "base_uri": "https://localhost:8080/"
        },
        "outputId": "8eedac63-be2e-4fd6-da1e-37e18469458b"
      },
      "source": [
        "while True:\n",
        "  word=input('enter a Color/Fruit/Animal name:')\n",
        "  colors=['yellow','green','white','black']\n",
        "  fruits=['apple','papaya','mango','orange']\n",
        "  animals=['tiger','lion','deer','zebra']\n",
        "  if word in colors:\n",
        "     print(word +'in colors')\n",
        "  elif word in fruits :\n",
        "    print(word +'in fruits')\n",
        "  elif word in animals:\n",
        "    print(word +'in animals')\n",
        "  elif word=='exit':\n",
        "    break\n",
        "  else:\n",
        "    print('unknown word')\n",
        "      \n",
        "\n"
      ],
      "execution_count": 111,
      "outputs": [
        {
          "output_type": "stream",
          "text": [
            "enter a Color/Fruit/Animal name:green\n",
            "greenin colors\n",
            "enter a Color/Fruit/Animal name:hhh\n",
            "unknown word\n",
            "enter a Color/Fruit/Animal name:exit\n"
          ],
          "name": "stdout"
        }
      ]
    },
    {
      "cell_type": "markdown",
      "metadata": {
        "id": "S4V6hMnOEHbz"
      },
      "source": [
        "# Question 1-ii :\n",
        " ii. Write a program that asks user to enter two cities and it tells you if they both are in same country or not. For example if I enter yellow and Black, it will print \"Both are colors\" but if I enter yellow and Tiger it should print \"They don't belong to same category\""
      ]
    },
    {
      "cell_type": "code",
      "metadata": {
        "id": "_fL2mTQLETjJ",
        "colab": {
          "base_uri": "https://localhost:8080/"
        },
        "outputId": "b248f973-8a18-4929-dc05-dc57ecc9e1ae"
      },
      "source": [
        "cities=['Rome','Veniece','Florence','Verona']\n",
        "city1 =input('city 1 :')\n",
        "city2 =input('city 2 :')\n",
        "if city1 and city2 in cities:\n",
        "  print('{} and {} are in the same country'.format(city1,city2))\n",
        "else:\n",
        "  print('{} and {} are not in the same country'.format(city1,city2))"
      ],
      "execution_count": 110,
      "outputs": [
        {
          "output_type": "stream",
          "text": [
            "city 1 :Rome\n",
            "city 2 :Florence\n",
            "Rome and Florence are in the same country\n"
          ],
          "name": "stdout"
        }
      ]
    },
    {
      "cell_type": "markdown",
      "metadata": {
        "id": "ZMRpIuRdLeKZ"
      },
      "source": [
        "--------------------------------------------------------------------------------------------------------------------------------------------"
      ]
    },
    {
      "cell_type": "markdown",
      "metadata": {
        "id": "Pn1U6Dk4IoQy"
      },
      "source": [
        "# Question 2:\n",
        " Write a python program that can tell you if your grade score good or not . Normal Score range is 40 to 60.\n",
        "\n",
        "  i. Ask user to enter his score.\n",
        "\n",
        "  ii. If it is below 40 to 60 range then print that score is low\n",
        "\n",
        "  iii. If it is above 60 then print that it is good otherwise print that it is normal"
      ]
    },
    {
      "cell_type": "code",
      "metadata": {
        "id": "uoCEvExpJHUU",
        "colab": {
          "base_uri": "https://localhost:8080/"
        },
        "outputId": "dea16702-0431-4d6d-a823-3bc07880bd76"
      },
      "source": [
        "grade=int(input('Enter your grade :'))\n",
        "if grade <= 40 :\n",
        "  print('the score is low')\n",
        "elif grade >= 60:\n",
        "    print('the score is high')\n",
        "else:\n",
        "    print('the score is normal')\n",
        "\n",
        "  \n"
      ],
      "execution_count": 109,
      "outputs": [
        {
          "output_type": "stream",
          "text": [
            "Enter your grade :70\n",
            "the score is high\n"
          ],
          "name": "stdout"
        }
      ]
    },
    {
      "cell_type": "markdown",
      "metadata": {
        "id": "-cC_9rYiKvKV"
      },
      "source": [
        "--------------------------------------------------------------------------------------------------------------------------------------------"
      ]
    },
    {
      "cell_type": "markdown",
      "metadata": {
        "id": "_96RhoDbKmP4"
      },
      "source": [
        "# Question 3:\n",
        " After appearing in exam 10 times you got this result,\n",
        "\n",
        "result = [\"Pass\",\"Fail\",\"Fail\",\"Pass\",\"Fail\",\"Pass\",\"Pass\",\"Fail\",\"Fail\",\"Fail\"]\n",
        "\n",
        "Using for loop figure out how many times you got Pass"
      ]
    },
    {
      "cell_type": "code",
      "metadata": {
        "id": "xjglv_BnLpN7",
        "colab": {
          "base_uri": "https://localhost:8080/"
        },
        "outputId": "4130d4d9-d1d7-4aa4-f999-b6e3088265c6"
      },
      "source": [
        "result = [\"Pass\",\"Fail\",\"Fail\",\"Pass\",\"Fail\",\"Pass\",\"Pass\",\"Fail\",\"Fail\",\"Fail\"]\n",
        "count=0\n",
        "for i in result:\n",
        "  if i =='Pass':\n",
        "    count+=1\n",
        "print('Number of Pass={}'.format(count))"
      ],
      "execution_count": 108,
      "outputs": [
        {
          "output_type": "stream",
          "text": [
            "Number of Pass=4\n"
          ],
          "name": "stdout"
        }
      ]
    },
    {
      "cell_type": "markdown",
      "metadata": {
        "id": "75clUs98M8OJ"
      },
      "source": [
        "**Other** **solution**"
      ]
    },
    {
      "cell_type": "code",
      "metadata": {
        "colab": {
          "base_uri": "https://localhost:8080/"
        },
        "id": "gg_-77EaMgfk",
        "outputId": "363a2288-7d68-4ca1-fef6-68b1239e34af"
      },
      "source": [
        "result = [\"Pass\",\"Fail\",\"Fail\",\"Pass\",\"Fail\",\"Pass\",\"Pass\",\"Fail\",\"Fail\",\"Fail\"]\n",
        "count_pass=result.count('Pass')\n",
        "print('Number of Pass={}'.format(count_pass))"
      ],
      "execution_count": null,
      "outputs": [
        {
          "output_type": "stream",
          "text": [
            "Number of Pass=4\n"
          ],
          "name": "stdout"
        }
      ]
    },
    {
      "cell_type": "markdown",
      "metadata": {
        "id": "uXIVxM3rV0cT"
      },
      "source": [
        "--------------------------------------------------------------------------------------------------------------------------------------------"
      ]
    },
    {
      "cell_type": "markdown",
      "metadata": {
        "id": "NQ4wyQyCNUvL"
      },
      "source": [
        "# Question 4:\n",
        " \n",
        " 4.  Write a program that prints following shape\n",
        "\n",
        "*\n",
        "\n",
        "* *\n",
        "\n",
        "* * *\n",
        "\n",
        "* * * *\n",
        "\n",
        "* * * * *\n",
        "\n",
        "* * * *\n",
        "\n",
        "* * *\n",
        "\n",
        "* *\n",
        "\n",
        "* "
      ]
    },
    {
      "cell_type": "code",
      "metadata": {
        "id": "dAW-Zj4gM7Si",
        "colab": {
          "base_uri": "https://localhost:8080/"
        },
        "outputId": "90642e96-0287-43b6-a7a9-bd738bd484d2"
      },
      "source": [
        "for i in range(0,6):\n",
        "  for j in range(0,i):\n",
        "    print('*',end='')\n",
        "  print('')\n",
        "for x in range(4,0):\n",
        "  for y in range(x,0):\n",
        "    print('*',end='')\n",
        "  print('')\n",
        "for x in range(4,0,-1):\n",
        "  for y in range(x,0,-1):\n",
        "    print('*',end='')\n",
        "  print('')"
      ],
      "execution_count": 107,
      "outputs": [
        {
          "output_type": "stream",
          "text": [
            "\n",
            "*\n",
            "**\n",
            "***\n",
            "****\n",
            "*****\n",
            "****\n",
            "***\n",
            "**\n",
            "*\n"
          ],
          "name": "stdout"
        }
      ]
    },
    {
      "cell_type": "markdown",
      "metadata": {
        "id": "6pvVUW25V6Ir"
      },
      "source": [
        "--------------------------------------------------------------------------------------------------------------------------------------------"
      ]
    },
    {
      "cell_type": "markdown",
      "metadata": {
        "id": "bBgbnRhoVjrO"
      },
      "source": [
        "# Question 5:\n",
        "Lets say you are running a 50 km race. Write a program that,\n",
        "\n",
        "Upon completing each 10 km asks you \"are you tired?\"\n",
        "If you reply \"yes\" then it should break and print \"you didn't finish the race\"\n",
        " If you reply \"no\" then it should continue and ask \"are you tired\" on every km\n",
        "If you finish all 50 km then it should print congratulations message\n"
      ]
    },
    {
      "cell_type": "code",
      "metadata": {
        "id": "A0d_CRpFUsSE",
        "colab": {
          "base_uri": "https://localhost:8080/"
        },
        "outputId": "bc8864e5-8e8b-4210-adfe-71473d35d31f"
      },
      "source": [
        "distance=10\n",
        "while distance <=50:\n",
        "  distance +=1\n",
        "  if distance == 50:\n",
        "    print('congratulations')\n",
        "    break\n",
        "  else:\n",
        "    answer=input('Are you tired ?')\n",
        "    if answer=='yes':\n",
        "       print('you did no t finish the race')\n",
        "       break\n",
        "    elif answer=='no':\n",
        "       continue\n",
        "  "
      ],
      "execution_count": 93,
      "outputs": [
        {
          "output_type": "stream",
          "text": [
            "Are you tired ?no\n",
            "Are you tired ?no\n",
            "Are you tired ?yes\n",
            "you did no t finish the race\n"
          ],
          "name": "stdout"
        }
      ]
    },
    {
      "cell_type": "markdown",
      "metadata": {
        "id": "AdmQp02KeeO7"
      },
      "source": [
        "--------------------------------------------------------------------------------------------------------------------------------------------"
      ]
    },
    {
      "cell_type": "markdown",
      "metadata": {
        "id": "Sc6WrzA1eIhl"
      },
      "source": [
        "# Question 6:\n",
        "Write a Python program to find those numbers which are divisible by 7 and multiple of 5, between 1500 and 2700 (both included).\n"
      ]
    },
    {
      "cell_type": "code",
      "metadata": {
        "id": "apwcin0SeICj",
        "colab": {
          "base_uri": "https://localhost:8080/"
        },
        "outputId": "7efa3a27-1d2c-415d-9216-a49992854327"
      },
      "source": [
        "for number in range(1500,2701):\n",
        "  if (number % 7 ==0 and number % 5==0):\n",
        "    print(number)"
      ],
      "execution_count": 98,
      "outputs": [
        {
          "output_type": "stream",
          "text": [
            "1505\n",
            "1540\n",
            "1575\n",
            "1610\n",
            "1645\n",
            "1680\n",
            "1715\n",
            "1750\n",
            "1785\n",
            "1820\n",
            "1855\n",
            "1890\n",
            "1925\n",
            "1960\n",
            "1995\n",
            "2030\n",
            "2065\n",
            "2100\n",
            "2135\n",
            "2170\n",
            "2205\n",
            "2240\n",
            "2275\n",
            "2310\n",
            "2345\n",
            "2380\n",
            "2415\n",
            "2450\n",
            "2485\n",
            "2520\n",
            "2555\n",
            "2590\n",
            "2625\n",
            "2660\n",
            "2695\n"
          ],
          "name": "stdout"
        }
      ]
    },
    {
      "cell_type": "markdown",
      "metadata": {
        "id": "BROlroZijWA-"
      },
      "source": [
        "--------------------------------------------------------------------------------------------------------------------------------------------"
      ]
    },
    {
      "cell_type": "markdown",
      "metadata": {
        "id": "Z56jjF1ijZ8D"
      },
      "source": [
        "# Question 7:\n",
        "Print square of all numbers between 10 to 20 except even numbers"
      ]
    },
    {
      "cell_type": "code",
      "metadata": {
        "colab": {
          "base_uri": "https://localhost:8080/"
        },
        "id": "SumYiafmjm5B",
        "outputId": "ad58a145-f57c-4056-afcf-581a91d320b8"
      },
      "source": [
        "for i in range(10,20):\n",
        "  if i % 2 != 0:\n",
        "    print(i**2)"
      ],
      "execution_count": 100,
      "outputs": [
        {
          "output_type": "stream",
          "text": [
            "121\n",
            "169\n",
            "225\n",
            "289\n",
            "361\n"
          ],
          "name": "stdout"
        }
      ]
    },
    {
      "cell_type": "markdown",
      "metadata": {
        "id": "nYFIephVkWDQ"
      },
      "source": [
        "--------------------------------------------------------------------------------------------------------------------------------------------"
      ]
    },
    {
      "cell_type": "markdown",
      "metadata": {
        "id": "4J0J9utGkXxx"
      },
      "source": [
        "# Question 8:\n",
        "Your Marks for five Test(test1 to test5) looks like this,\n",
        "\n",
        "marks_list = [65, 75, 2100, 95, 83]\n",
        "\n",
        "Write a program that asks you to enter marks and program should tell you in which test that marks occurred. If marks is not found then it should print that as well."
      ]
    },
    {
      "cell_type": "code",
      "metadata": {
        "colab": {
          "base_uri": "https://localhost:8080/"
        },
        "id": "s1R7vaNXkgu1",
        "outputId": "850b79da-3f36-4dcb-94fb-25fa7d8754be"
      },
      "source": [
        "marks_list = [65, 75, 2100, 95, 83]\n",
        "mark=int(input('Enter your mark :'))\n",
        "if mark in marks_list:\n",
        "    print(marks_list.index(mark))"
      ],
      "execution_count": 106,
      "outputs": [
        {
          "output_type": "stream",
          "text": [
            "Enter your mark :83\n",
            "4\n"
          ],
          "name": "stdout"
        }
      ]
    }
  ]
}